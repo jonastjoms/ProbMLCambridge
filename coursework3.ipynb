{
 "cells": [
  {
   "cell_type": "markdown",
   "metadata": {},
   "source": [
    "## Coursework 3: document models\n",
    "_[Original](http://mlg.eng.cam.ac.uk/teaching/4f13/1819/cw/coursework3.pdf) by Carl Rasmussen and Manon Kok for [CUED course 4f13](http://mlg.eng.cam.ac.uk/teaching/4f13/1819/). This version adapted by Damon Wischik._\n",
    "\n",
    "This coursework involves aggregating, summarizing, and joining datasets. This may be done with straight Python, or with MATLAB-style manipulations using `numpy`, or with `pandas` dataframes. If you anticipate future work in machine learning and data science then you should learn to use `pandas` dataframes, and you may find it helpful to follow the walkthrough in [Section 3](https://notebooks.azure.com/djw1005/libraries/cl-scicomp/html/3.%20Working%20with%20data.ipynb) of IA _Scientific Computing_. If you prefer not to use dataframes, and you have questions about how they are being used in the code snippets below, ask your classmates or Dr Wischik.\n",
    "\n",
    "**What to submit.**\n",
    "Your answers should contain an explanation of what you do, and\n",
    "2&ndash;4 central commands to achieve it. Complete listings are\n",
    "unnecessary. The focus of your answer should be\n",
    "_interpretation:_ explain what the numerical values and graphs\n",
    "you produce _mean,_ and why they are as they are.  The text of\n",
    "your answer to each question should be no more than a paragraph or\n",
    "two."
   ]
  },
  {
   "cell_type": "code",
   "execution_count": 1,
   "metadata": {},
   "outputs": [],
   "source": [
    "import numpy as np\n",
    "import matplotlib\n",
    "import matplotlib.pyplot as plt\n",
    "import scipy.io\n",
    "import pandas\n",
    "import requests, io\n",
    "import time\n",
    "from math import floor"
   ]
  },
  {
   "cell_type": "markdown",
   "metadata": {},
   "source": [
    "## Data import\n",
    "\n",
    "The data is provided as `http://mlg.eng.cam.ac.uk/teaching/4f13/1112/cw/kos_doc_data.mat`. It contains two matrices $A$ and $B$ for training and testing respectively, both matrices with 3 columns: document ID, word ID, and word count. The words themselves are the vector $V$, where e.g. `V[840]='bush'`. The following snippet reads in the data, and converts $A$ and $B$ to dataframes."
   ]
  },
  {
   "cell_type": "code",
   "execution_count": 2,
   "metadata": {},
   "outputs": [],
   "source": [
    "r = requests.get('http://mlg.eng.cam.ac.uk/teaching/4f13/1112/cw/kos_doc_data.mat')\n",
    "with io.BytesIO(r.content) as f:\n",
    "    data = scipy.io.loadmat(f)\n",
    "    V = np.array([i[0] for i in data['V'].squeeze()])\n",
    "    A,B = [pandas.DataFrame({'doc_id': M[:,0]-1, 'word_id': M[:,1]-1, 'count': M[:,2]}, \n",
    "                            columns=['doc_id','word_id','count']) \n",
    "           for M in (data['A'],data['B'])] \n"
   ]
  },
  {
   "cell_type": "markdown",
   "metadata": {},
   "source": [
    "## Question (a): simple categorical model\n",
    "\n",
    "Suppose we model words in a document as independent samples from a categorical distribution with parameter $\\beta$, where $\\beta_v$ is the probability of word $v\\in V$. Using $A$ as the training set, find the maximum likelihood estimator $\\hat{\\beta}$, and plot the 20 most-probable words in a histogram. What is the log probability of the test document `doc_id=2527`, given $\\hat{\\beta}$? Briefly interpret your answer.\n",
    "\n",
    "Note: you can plot a histogram with\n",
    "```\n",
    "with plt.rc_context({'figure.figsize': (5,8)}):            # set plot size\n",
    "    plt.barh(np.arange(20), top_20_probs, align='center')  # draw bars\n",
    "plt.yticks(np.arange(20), top_20_words)                    # label the y axis\n",
    "plt.xlabel(r'$\\hat{\\beta}$')                               # label the x axis\n",
    "plt.gca().invert_yaxis()                                   # optionally, flip the y-axis\n",
    "plt.show()\n",
    "```"
   ]
  },
  {
   "cell_type": "code",
   "execution_count": 3,
   "metadata": {},
   "outputs": [
    {
     "data": {
      "image/png": "[encoded data removed]",
      "text/plain": [
       "<Figure size 360x576 with 1 Axes>"
      ]
     },
     "metadata": {
      "needs_background": "light"
     },
     "output_type": "display_data"
    }
   ],
   "source": [
    "# Construct a frequency vector over words, divide by number of words in the documents\n",
    "N = V.shape[0]\n",
    "counts = np.zeros(N)\n",
    "for i, element in enumerate(A['word_id']):\n",
    "    counts[element] += A['count'][i]\n",
    "\n",
    "beta_hat = np.divide(counts, A['count'].sum())\n",
    "\n",
    "# Find the 20 most probable words:\n",
    "temp = list(beta_hat)\n",
    "most_prob_id = np.zeros(20).astype(int)\n",
    "most_prob_value = np.zeros(20)\n",
    "for i in range(20):\n",
    "    most_prob_value[i] = max(temp)\n",
    "    most_prob_id[i] = int(temp.index(max(temp)))\n",
    "    temp.remove(max(temp))\n",
    "# Plot the 20 most probable words \n",
    "top_20_probs = most_prob_value \n",
    "top_20_words = V[most_prob_id]\n",
    "with plt.rc_context({'figure.figsize': (5,8)}):            # set plot size\n",
    "    plt.barh(np.arange(20), top_20_probs, align='center')  # draw bars\n",
    "plt.yticks(np.arange(20), top_20_words)                    # label the y axis\n",
    "plt.xlabel(r'$\\hat{\\beta}$', fontsize = 14)   \n",
    "plt.ylabel('Words', fontsize = 14)\n",
    "plt.gca().invert_yaxis()\n",
    "plt.title('20 most probable words and their frequency', fontsize = 14)\n",
    "plt.show()\n"
   ]
  },
  {
   "cell_type": "code",
   "execution_count": 4,
   "metadata": {},
   "outputs": [
    {
     "name": "stdout",
     "output_type": "stream",
     "text": [
      "[3.71462828e-04 9.56240943e-05 3.31006480e-05 1.27486655e-06\n",
      " 6.62012961e-05 1.09565290e-07 3.60429279e-04 1.61825390e-04\n",
      " 1.02979794e-04 4.41341974e-05 7.35569956e-06 2.24348837e-04\n",
      " 1.37984633e-07 7.15556030e-09 1.40971982e-02 3.63810869e-07\n",
      " 4.42950950e-27 2.11352797e-07 1.21369043e-04 2.35382386e-04\n",
      " 7.46603506e-04 9.19462445e-05 7.09347330e-07 9.55106170e-15\n",
      " 8.41780677e-26 1.13758530e-08 5.95811665e-04 1.61825390e-04\n",
      " 3.65758697e-08 1.69181090e-04 1.65503240e-04 2.50093785e-04\n",
      " 2.85574354e-05 1.76536790e-04 6.65690811e-04 2.28762256e-03\n",
      " 1.28724742e-04 8.82683948e-05 1.17691193e-04 1.06657644e-04\n",
      " 1.21369043e-04 9.14396742e-09 1.25046893e-04 4.78120472e-05\n",
      " 3.38164475e-08 1.94926038e-04 4.70764772e-04 9.93019441e-05\n",
      " 1.94926038e-04 1.54469691e-04 5.14898969e-05 4.22952725e-04\n",
      " 3.38362180e-04 3.27328631e-04 1.14013343e-04 1.21369043e-04\n",
      " 4.04563476e-05 5.88455965e-05 7.72348454e-05 6.65690811e-04\n",
      " 1.05554289e-03 4.23779545e-12 3.56751429e-04 6.98791459e-04\n",
      " 9.77295334e-08 1.43503477e-07 1.80214639e-04 7.28214257e-04\n",
      " 2.46783720e-03 4.04563476e-05 4.41341974e-05 8.58848240e-18\n",
      " 8.82683948e-05 4.78120472e-05 7.49438320e-11 3.53441364e-03\n",
      " 3.67784978e-04 5.70066716e-03 3.84335302e-03 1.16587838e-03\n",
      " 5.00187570e-04 1.17691193e-04 5.81100266e-04 1.06657644e-04\n",
      " 8.20848274e-06 6.36268012e-04 2.46415935e-04 1.39758292e-04\n",
      " 2.86872283e-04 1.02979794e-04 7.72348454e-05 4.78120472e-04\n",
      " 1.28724742e-04 8.11169008e-08 2.79516583e-04 4.41341974e-05\n",
      " 1.72858940e-04 7.35569956e-06 0.00000000e+00 1.80214639e-04\n",
      " 2.02983226e-05 1.83892489e-05 8.20160501e-04 3.67784978e-05\n",
      " 3.31006480e-04 2.94227983e-05 4.37664124e-04 2.68483034e-04\n",
      " 4.48697673e-04 3.42775600e-03 1.83892489e-05 2.83194433e-04\n",
      " 2.42738086e-04 1.16237816e-05 7.51002634e-22 3.31006480e-05\n",
      " 2.20670987e-05 7.66199542e-07 2.57449485e-05 6.25234463e-05\n",
      " 2.09637438e-04 4.78120472e-04 5.90854498e-07 1.16124328e-06\n",
      " 1.71020015e-03 1.65503240e-04 4.33405118e-07 7.42925656e-04\n",
      " 5.36966068e-04]\n"
     ]
    }
   ],
   "source": [
    "# Find the log likelihood of document \"doc_id=2527\"\n",
    "# First find frequency of words\n",
    "words_in_2527 = np.zeros(N)\n",
    "for i, element in enumerate(B['doc_id']):\n",
    "    if element == 2527:\n",
    "        words_in_2527[B['word_id'][i]] += B['count'][i]\n",
    "\n",
    "# Now determine log likelihood\n",
    "b_power_c = np.power(beta_hat, words_in_2527)\n",
    "b_power_c = b_power_c[b_power_c != 1]\n",
    "print(b_power_c)\n"
   ]
  },
  {
   "cell_type": "markdown",
   "metadata": {},
   "source": [
    "### Comment:\n",
    "Since we use a niave model than only leverages the counts of words in the training set, when facing unseen words, the probability of them occuring will be zero and hence will the pobability of the document occuring be zero. Log prob will then be -inf."
   ]
  },
  {
   "cell_type": "markdown",
   "metadata": {},
   "source": [
    "## Question (b): Bayesian inference\n",
    "\n",
    "For the categorical model in part (a), use Bayesian inference to find the posterior distribution of $\\beta$ given the training set $A$, using a symmetric Dirichlet distribution with concentration parameter $\\alpha=0.1$ as prior. Let $\\tilde{\\beta}_v$ be the posterior predictive probability of word $v\\in V$, i.e. the posterior probability that a newly chosen word is $v$. Derive an expression for $\\tilde{\\beta}_v$, and compare it to $\\hat{\\beta}_v$. Explain the implications, both for common and for rare words.\n",
    "\n",
    "Hint: $\\Gamma(z+1)=z\\,\\Gamma(z)$."
   ]
  },
  {
   "cell_type": "code",
   "execution_count": 5,
   "metadata": {},
   "outputs": [
    {
     "name": "stdout",
     "output_type": "stream",
     "text": [
      "[1.40618500e-02 2.97151091e-05 1.00921315e-03 7.00689611e-05\n",
      " 4.36922160e-04 9.76196363e-04 2.09473177e-04 1.50409812e-05\n",
      " 2.23780452e-05 4.07207051e-05 6.27318971e-05 1.21428409e-04\n",
      " 9.76196363e-04 7.37374931e-05 1.58113729e-04 8.10745570e-05\n",
      " 2.09473177e-04 2.71838221e-04 8.47430890e-05 1.43439601e-04]\n"
     ]
    }
   ],
   "source": [
    "# Pseudo counts\n",
    "alpha = 0.1*np.ones(N)\n",
    "beta_tilde = counts + alpha\n",
    "beta_tilde = np.divide(beta_tilde, A['count'].sum()+alpha.sum())\n",
    "# Find the log likelihood of document \"doc_id=2527\"\n",
    "# First find frequency of words\n",
    "words_in_2527 = np.zeros(N)\n",
    "for i, element in enumerate(B['doc_id']):\n",
    "    if element == 2000:\n",
    "        words_in_2527[B['word_id'][i]] = B['count'][i]\n",
    "\n",
    "# Now determine log likelihood\n",
    "b_power_c = np.power(beta_tilde, words_in_2527)\n",
    "b_power_c = b_power_c[b_power_c != 1]\n",
    "log_prob = np.sum(np.log(b_power_c))\n",
    "print(beta_tilde[most_prob_id])"
   ]
  },
  {
   "cell_type": "code",
   "execution_count": null,
   "metadata": {},
   "outputs": [],
   "source": []
  },
  {
   "cell_type": "markdown",
   "metadata": {},
   "source": [
    "## Question (c): interpretation\n",
    "\n",
    "In information theory, the _self-information_ of a document $w$ is defined as $i(w) = -\\log_2 p(w)$, where $p(\\cdot)$ is the probability mass function for the document generating model that you have fitted. The self-information can be interpreted as the number of bits needed to encode or transmit $w$. The number of bits needed per word is thus $i(w)/n$. In text modelling, it is more common to use the terms _perplexity_ for $2^{i(w)}$, and _per-word perplexity_ for $2^{i(w)/n}$. Loosely speaking, if the per-word perplexity is $g$ then the uncertainty in the next word is the same as the uncertainty in a $g$-sided die.\n",
    "\n",
    "For the trained Bayesian model from part (b), what is the per-word perplexity of the test document `doc_id=2000`? Plot a histogram showing the distribution of per-word perplexity over all the test documents (using [`plt.hist`](https://matplotlib.org/api/_as_gen/matplotlib.pyplot.hist.html?highlight=matplotlib%20pyplot%20hist#matplotlib.pyplot.hist)). Pick out two documents, one with high per-word perplexity and one with low per-word perplexity, show their contents, and interpret the difference between them."
   ]
  },
  {
   "cell_type": "code",
   "execution_count": 6,
   "metadata": {},
   "outputs": [
    {
     "name": "stdout",
     "output_type": "stream",
     "text": [
      "-5325.30015663397\n",
      "4398.984801609572\n"
     ]
    }
   ],
   "source": [
    "# Finding per word perplexity for document 2000\n",
    "doc_id = 2000\n",
    "words_in_2000 = np.zeros(N)\n",
    "for i, element in enumerate(B['doc_id']):\n",
    "    if element == 2000:\n",
    "        words_in_2000[B['word_id'][i]] = B['count'][i]\n",
    "    \n",
    "log_doc_prob = 0\n",
    "for i , element in enumerate(words_in_2000):\n",
    "    log_doc_prob = log_doc_prob + element*np.log2(beta_tilde[i])\n",
    "n_words_in_2000 = sum(words_in_2000)\n",
    "print(log_doc_prob)\n",
    "print(2**(-log_doc_prob/n_words_in_2000))"
   ]
  },
  {
   "cell_type": "code",
   "execution_count": 6,
   "metadata": {},
   "outputs": [
    {
     "name": "stdout",
     "output_type": "stream",
     "text": [
      "2831.4952329277485\n"
     ]
    }
   ],
   "source": [
    "# Finding per word perplexity for all documents\n",
    "# First find frequency of words in all documents\n",
    "doc_n = B['doc_id'].iloc[B['doc_id'].shape[0]-1]+1\n",
    "per_doc_count = np.zeros((N, doc_n))\n",
    "per_doc_perplex = np.zeros(doc_n)\n",
    "for i, document in enumerate(B['doc_id']):\n",
    "    per_doc_count[B['word_id'][i], document] = B['count'][i]\n",
    "\n",
    "p = np.array([])\n",
    "for i in np.arange(2000, B['doc_id'].iloc[B['doc_id'].shape[0]-1], 1):\n",
    "    words_in_doc = per_doc_count[:,i]\n",
    "    n_words_in_doc = sum(words_in_doc)\n",
    "    log_doc_prob = np.sum(np.multiply(words_in_doc,np.log2(beta_tilde)))\n",
    "    per_doc_perplex[i] = 2**(-log_doc_prob/n_words_in_doc)\n",
    "    if n_words_in_doc > 200 and n_words_in_doc < 300:\n",
    "        p = np.append(p,[per_doc_perplex[i]])\n",
    "        \n",
    "print(np.mean(p))\n",
    "per_doc_perplex = per_doc_perplex[2000:3429]\n"
   ]
  },
  {
   "cell_type": "code",
   "execution_count": 8,
   "metadata": {},
   "outputs": [
    {
     "name": "stdout",
     "output_type": "stream",
     "text": [
      "-183.85999999999999\n"
     ]
    },
    {
     "data": {
      "image/png": "[encoded data removed]",
      "text/plain": [
       "<Figure size 432x288 with 1 Axes>"
      ]
     },
     "metadata": {
      "needs_background": "light"
     },
     "output_type": "display_data"
    }
   ],
   "source": [
    "# Construct a frequency vector over words, divide by number of words in the documents\n",
    "N = V.shape[0]\n",
    "counts = np.zeros(N)\n",
    "for i, element in enumerate(B['word_id']):\n",
    "    if B['doc_id'][i] == 2618:\n",
    "        counts[element] += B['count'][i]\n",
    "\n",
    "# Find the 20 most probable words:\n",
    "temp = list(counts)\n",
    "most_prob_id = np.zeros(20).astype(int)\n",
    "most_prob_value = np.zeros(20)\n",
    "for i in range(20):\n",
    "    most_prob_value[i] = max(temp)\n",
    "    most_prob_id[i] = int(temp.index(max(temp)))\n",
    "    temp.remove(max(temp))\n",
    "# Plot the 20 most probable words \n",
    "top_20_probs = most_prob_value \n",
    "top_20_words = list(V[most_prob_id])\n",
    "top_20_log = 0\n",
    "for i, element in enumerate(most_prob_id):\n",
    "    top_20_words[i] = top_20_words[i] +' (' + str(round(np.log(beta_tilde[element]),2)) + ')'\n",
    "    top_20_log += round(np.log(beta_tilde[element]),2)\n",
    "print(top_20_log)\n",
    "\n",
    "plt.barh(np.arange(20), top_20_probs, align='center', linewidth = 3)  # draw bars\n",
    "plt.yticks(np.arange(20), top_20_words, fontsize = 10)                    # label the y axis\n",
    "plt.xlabel('Count', fontsize = 14)   \n",
    "plt.title('20 most frequent words in doc 2618', fontsize = 14)\n",
    "plt.show()\n",
    "\n"
   ]
  },
  {
   "cell_type": "code",
   "execution_count": 9,
   "metadata": {},
   "outputs": [
    {
     "data": {
      "image/png": "[encoded data removed]",
      "text/plain": [
       "<Figure size 360x576 with 1 Axes>"
      ]
     },
     "metadata": {
      "needs_background": "light"
     },
     "output_type": "display_data"
    }
   ],
   "source": [
    "with plt.rc_context({'figure.figsize': (5,8)}):           \n",
    "    plt.barh(np.arange(per_doc_perplex.shape[0]), per_doc_perplex, align='center', linewidth = 5) \n",
    "plt.xlabel('Per word perplexity', fontsize = 14) \n",
    "plt.ylabel('Documents in testing set B', fontsize = 14)\n",
    "plt.gca().invert_yaxis()  \n",
    "plt.title(\"Per word perplexity for all documents in testing set B\", fontsize = 14)\n",
    "plt.show()"
   ]
  },
  {
   "cell_type": "code",
   "execution_count": 87,
   "metadata": {},
   "outputs": [
    {
     "name": "stdout",
     "output_type": "stream",
     "text": [
      "399.25263555296976\n",
      "618\n",
      "15741.827170457318\n",
      "401\n"
     ]
    }
   ],
   "source": [
    "temp = list(per_doc_perplex)\n",
    "print(min(temp))\n",
    "print(int(temp.index(min(temp))))\n",
    "print(max(temp))\n",
    "print(int(temp.index(max(temp))))"
   ]
  },
  {
   "cell_type": "markdown",
   "metadata": {},
   "source": [
    "## Question (d): Gibbs sampler for the mixture-of-multinomials model\n",
    "\n",
    "The Bayesian mixture-of-multinomials model can be described by the following code:"
   ]
  },
  {
   "cell_type": "code",
   "execution_count": 7,
   "metadata": {},
   "outputs": [
    {
     "name": "stdout",
     "output_type": "stream",
     "text": [
      "['petitions' 'falling' 'sufficient' 'inclined' 'tipp']\n",
      "['nice' 'yanks']\n",
      "['gang' 'murkowski' 'republican' 'leaked']\n"
     ]
    }
   ],
   "source": [
    "def bmm_generate(doc_length, V, α, γ, K):\n",
    "    # doc_length = [num words in doc1, num words in doc2, ...]\n",
    "    θ = np.random.dirichlet(α * np.ones(K))              # prob dist over document classes {1,...,K}\n",
    "    β = np.random.dirichlet(γ * np.ones(len(V)), size=K) # for each doc class, a prob dist over words\n",
    "    z = np.random.choice(K, p=θ, size=len(doc_length))   # doc class of each document\n",
    "    return [np.random.choice(V, p=β[zd], size=nd) for zd,nd in zip(z, doc_length)]\n",
    "\n",
    "for doc in bmm_generate(doc_length=[5,2,4], V=V, α=10, γ=.1, K=20):\n",
    "    print(doc)"
   ]
  },
  {
   "cell_type": "markdown",
   "metadata": {},
   "source": [
    "The following code implements a collapsed Gibbs sampler. Complete the line that defines `logp`. In each sweep, the Gibbs sampler produces a sample of document classes, and this sample induces a posterior predictive distribution for the probability of each class. Plot how this distribution evolves as a function of the number of Gibbs sweeps. How many iterations does it take to converge?\n",
    "\n",
    "The Gibbs sampler may be run as follows:"
   ]
  },
  {
   "cell_type": "code",
   "execution_count": 9,
   "metadata": {},
   "outputs": [],
   "source": [
    "np.random.seed(2)\n",
    "def bmm_gibbs(doc_label, word_id, count, W, α, γ, K):\n",
    "    # doc_labels = distinct values of doc_label\n",
    "    # doc_index = a list as long as doc_label\n",
    "    #             such that doc_labels[doc_index[j]] = doc_label[j]\n",
    "    doc_labels, doc_index = np.unique(doc_label, return_inverse=True)\n",
    "\n",
    "    # z[i] = class of document i, where i enumerates the distinct doc_labels\n",
    "    # doc_count[k] = number of documents of class k\n",
    "    z = np.random.choice(K, len(doc_labels))\n",
    "    doc_count = np.zeros(K, dtype=int)\n",
    "    for k in z: doc_count[k] += 1\n",
    "\n",
    "    # occurrences[k,w] = number of occurrences of word_id w in documents of class k\n",
    "    # word_count[k] = total number of words in documents of class k\n",
    "    x = pandas.DataFrame({'doc_class': z[doc_index], 'word_id': word_id, 'count': count}) \\\n",
    "        .groupby(['doc_class', 'word_id']) \\\n",
    "        ['count'].apply(sum) \\\n",
    "        .unstack(fill_value=0)\n",
    "    occurrences = np.zeros((K, W))\n",
    "    occurrences[x.index.values.reshape((-1,1)), x.columns.values] = x\n",
    "    word_count = np.sum(occurrences, axis=1)\n",
    "\n",
    "    while True:\n",
    "        for i in range(len(doc_labels)):\n",
    "\n",
    "            # get the words,counts for document i\n",
    "            # and remove this document from the counts\n",
    "            w,c = word_id[doc_index==i].values, count[doc_index==i].values\n",
    "            occurrences[z[i], w] -= c\n",
    "            word_count[z[i]] -= sum(c)\n",
    "            doc_count[z[i]] -= 1\n",
    "            # Find the log probability that this document belongs to class k, marginalized over θ and β\n",
    "            logp = np.zeros(K)\n",
    "            for k in range(K):\n",
    "                temp = np.dot(np.log(occurrences[k, w] + γ) - np.log(word_count[k] + γ * W), np.transpose(c))\n",
    "                logp[k] = np.log(doc_count[k] + α) + temp    \n",
    "            p = np.exp(logp - np.max(logp))\n",
    "            p = p/sum(p)\n",
    "\n",
    "            # Assign this document to a new class, chosen randomly, and add back the counts\n",
    "            k = np.random.choice(K, p=p)\n",
    "            z[i] = k\n",
    "            occurrences[k, w] += c\n",
    "            word_count[k] += sum(c)\n",
    "            doc_count[k] += 1\n",
    "        \n",
    "        yield np.copy(z)"
   ]
  },
  {
   "cell_type": "code",
   "execution_count": 10,
   "metadata": {},
   "outputs": [],
   "source": [
    "g = bmm_gibbs(A['doc_id'], A['word_id'], A['count'], W=len(V), α=10, γ=.1, K=20)\n",
    "NUM_ITERATIONS = 30\n",
    "res = np.stack([next(g) for _ in range(NUM_ITERATIONS)])\n",
    "# this produces a matrix with one row per iteration and a column for each unique doc_id\n"
   ]
  },
  {
   "cell_type": "code",
   "execution_count": 24,
   "metadata": {},
   "outputs": [
    {
     "name": "stdout",
     "output_type": "stream",
     "text": [
      "[1.38270152 2.87832144 3.09541957 3.93236128 3.98850436 4.29335894\n",
      " 4.44222233 4.87832144]\n",
      "[18 16 13 17  8  7 15  0]\n",
      "4.0\n"
     ]
    }
   ],
   "source": [
    "K = 20\n",
    "n_doc = 2000\n",
    "count_of_classes = np.zeros((NUM_ITERATIONS, K))\n",
    "for i in range(NUM_ITERATIONS):\n",
    "    for j in range(n_doc):\n",
    "        count_of_classes[i, res[i,j]] += 1\n",
    "\n",
    "prob_of_classes = count_of_classes/n_doc\n",
    "\n",
    "doc_n = A['doc_id'].iloc[A['doc_id'].shape[0]-1]+1\n",
    "per_doc_count = np.zeros((N, doc_n))\n",
    "for i, document in enumerate(A['doc_id']):\n",
    "    per_doc_count[A['word_id'][i], document] = A['count'][i]\n",
    "    \n",
    "probs = prob_of_classes[25,:]\n",
    "probs_class = np.flip(np.argsort(probs))[0:8]\n",
    "probs = probs[probs_class]\n",
    "probs = -np.log2(probs)\n",
    "print(probs)\n",
    "print(probs_class)"
   ]
  },
  {
   "cell_type": "code",
   "execution_count": 47,
   "metadata": {},
   "outputs": [],
   "source": [
    "docs_in_class_k = {}\n",
    "for i in range(20):\n",
    "    docs_in_class_k[str(i)] = []\n",
    "for i, k in enumerate(res[25,:]):\n",
    "    if k in probs_class:\n",
    "        docs_in_class_k[str(k)].append(i)\n",
    "        "
   ]
  },
  {
   "cell_type": "code",
   "execution_count": 87,
   "metadata": {},
   "outputs": [],
   "source": [
    "prob_words_per_class = np.zeros((20,N))\n",
    "for c in probs_class:\n",
    "    for element in docs_in_class_k[str(c)]:\n",
    "        prob_words_per_class[c,:] += per_doc_count[:,element]\n",
    "\n",
    "class_probs = np.zeros((20,N))\n",
    "for i in range(20):\n",
    "    if i in probs_class:\n",
    "        class_probs[i,:] = prob_words_per_class[i,:]/sum(prob_words_per_class[i,:])\n",
    "    "
   ]
  },
  {
   "cell_type": "code",
   "execution_count": 88,
   "metadata": {},
   "outputs": [],
   "source": [
    "prob_8_class = prob_words_per_class[probs_class,:]\n",
    "class_8_prob = class_probs[probs_class,:]"
   ]
  },
  {
   "cell_type": "code",
   "execution_count": 89,
   "metadata": {},
   "outputs": [],
   "source": [
    "temp = prob_8_class\n",
    "t = class_8_prob\n",
    "most_prob_id = np.zeros((8,8)).astype(int)\n",
    "most_prob_value = np.zeros((8,8))\n",
    "most_prob_prob = np.zeros((8,8))\n",
    "# Iterate over 8 classes\n",
    "for i in range(8):\n",
    "    # Iterate over 8 words\n",
    "    temp2 = list(temp[i,:])\n",
    "    t2 = list(t[i,:])\n",
    "    for j in range(8):\n",
    "        most_prob_value[i,j] = max(temp2)\n",
    "        most_prob_prob[i,j] = max(t2)\n",
    "        most_prob_id[i,j] = int(temp2.index(max(temp2)))\n",
    "        temp2.remove(max(temp2))\n",
    "        t2.remove(max(t2))"
   ]
  },
  {
   "cell_type": "code",
   "execution_count": 91,
   "metadata": {},
   "outputs": [
    {
     "name": "stdout",
     "output_type": "stream",
     "text": [
      "[[1718. 1024.  854.  623.  614.  533.  515.  425.]\n",
      " [ 374.  340.  336.  272.  243.  235.  231.  217.]\n",
      " [ 911.  770.  373.  268.  267.  262.  219.  155.]\n",
      " [ 296.  254.  224.  209.  156.  147.  131.  110.]\n",
      " [ 377.  361.  274.  240.  221.  203.  165.  135.]\n",
      " [1044.  294.  276.  267.  251.  239.  239.  235.]\n",
      " [ 966.  261.  236.  211.  204.  202.  196.  192.]\n",
      " [ 100.   93.   76.   59.   57.   55.   55.   50.]]\n",
      "[['bush' 'irans' 'wanting' 'administration' 'preserve' 'penny' 'kernan'\n",
      "  'ties']\n",
      " ['senate' 'house' 'quoting' 'repub' 'elections' 'started' 'democratic'\n",
      "  'campaign']\n",
      " ['bush' 'kerrey' 'politicians' 'peoples' 'gene' 'volunteered'\n",
      "  'politicians' 'startspan']\n",
      " ['dean' 'kerrey' 'democrat' 'campaign' 'bush' 'price' 'edt' 'involve']\n",
      " ['kerry' 'dean' 'edward' 'clark' 'prices' 'politically' 'democracy'\n",
      "  'genuinely']\n",
      " ['november' 'bush' 'kerrey' 'voter' 'hours' 'politically' 'reproductive'\n",
      "  'selected']\n",
      " ['november' 'politics' 'house' 'sell' 'repub' 'poll' 'bush'\n",
      "  'governments']\n",
      " ['senate' 'republicans' 'republican' 'startling' 'marriage' 'bush'\n",
      "  'russo' 'democrat']]\n",
      "[[5.99052172 6.73703604 6.99894378 7.45394768 7.47494119 7.67904431\n",
      "  7.72860741 8.00571701]\n",
      " [6.36767754 6.50518106 6.52225457 6.82710916 6.98975949 7.03805505\n",
      "  7.06282296 7.15302077]\n",
      " [4.71009192 4.95268453 5.99836734 6.47530997 6.48070323 6.50797616\n",
      "  6.7666121  7.26527476]\n",
      " [5.74219562 5.9629643  6.14429406 6.24428985 6.66624677 6.75197664\n",
      "  6.91822598 7.17028927]\n",
      " [4.64996608 4.71253176 5.11035471 5.30149619 5.42048423 5.54305087\n",
      "  5.84206458 6.13157119]\n",
      " [4.54532697 6.37356062 6.46470851 6.51253704 6.60168941 6.67236616\n",
      "  6.67236616 6.69671602]\n",
      " [4.50348833 6.39146171 6.53672466 6.69826852 6.74694237 6.76115623\n",
      "  6.80465786 6.83440521]\n",
      " [6.20437551 6.30907289 6.60030419 6.96558865 7.01534169 7.06687199\n",
      "  7.06687199 7.20437551]]\n"
     ]
    }
   ],
   "source": [
    "print(most_prob_value)\n",
    "print(V[most_prob_id])\n",
    "print(-np.log2(most_prob_prob))"
   ]
  },
  {
   "cell_type": "code",
   "execution_count": null,
   "metadata": {},
   "outputs": [],
   "source": []
  },
  {
   "cell_type": "code",
   "execution_count": 185,
   "metadata": {},
   "outputs": [],
   "source": [
    "plt.figure()\n",
    "for i in range(K):\n",
    "    plt.plot(np.arange(0, NUM_ITERATIONS, 1), prob_of_classes[:,i])\n",
    "plt.title('Probability of each class as a function of Gibbs iteration', fontsize = 14)\n",
    "plt.xlabel('Iteration of Gibbs sampling', fontsize = 14)\n",
    "plt.ylabel('Probability', fontsize = 14)\n",
    "plt.show()"
   ]
  },
  {
   "cell_type": "markdown",
   "metadata": {},
   "source": [
    "## Question (e): interpretation\n",
    "\n",
    "Let $\\alpha=10$, $\\gamma=0.1$, $K=20$. Run the Gibbs sampler until it converges, and find the posterior predictive probabilities for topics, and for words within each topic. \n",
    "For each the 8 most popular topics, print the probability of the topic and the 8 most probable words and their probabilities.\n",
    "Display probabilities in _shannons_, i.e. display a probability $p$ as $-\\log_2 p$. An increase of 1 shannon corresponds to a 50% decrease in probability.\n",
    "\n",
    "Rerun with different random seeds. Do you think this method has succeeded in identifying topics?\n",
    "\n",
    "**Optional.** There are some words that are very common across all topics. How might we pick out the _distinctive_ words for each topic?"
   ]
  },
  {
   "cell_type": "markdown",
   "metadata": {},
   "source": [
    "## Question (f): evaluation\n",
    "\n",
    "**Optional.** Give a formula for per-word perplexity for the mixture model, in terms of the posterior predictive probabilities for topics and words.\n",
    "\n",
    "**Optional.** Plot a histogram showing the distribution of per-word perplexity over all the test documents for the model in part (e). Also plot the histogram obtained from $K=8$, and the histogram from the plain multinomial model in part (c). Which model do you prefer, and why?"
   ]
  }
 ],
 "metadata": {
  "kernelspec": {
   "display_name": "Python 3",
   "language": "python",
   "name": "python3"
  },
  "language_info": {
   "codemirror_mode": {
    "name": "ipython",
    "version": 3
   },
   "file_extension": ".py",
   "mimetype": "text/x-python",
   "name": "python",
   "nbconvert_exporter": "python",
   "pygments_lexer": "ipython3",
   "version": "3.7.5"
  }
 },
 "nbformat": 4,
 "nbformat_minor": 2
}
